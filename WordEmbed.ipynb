{
 "cells": [
  {
   "cell_type": "markdown",
   "id": "0db7944c",
   "metadata": {},
   "source": [
    "## Word embedding\n",
    "Word embeddings are dense vector representations of words in a continuous vector space, where semantically similar words are mapped to nearby points. Unlike one-hot encoding, which represents words as sparse vectors with high dimensionality, word embeddings capture syntactic and semantic relationships between words in a lower-dimensional space.\n",
    "\n",
    "Mathematically, given a vocabulary of size $V$, each word $w_i$ is represented as a vector $\\mathbf{v}_i \\in \\mathbb{R}^d$, where $d \\ll V$. The embedding matrix $\\mathbf{E} \\in \\mathbb{R}^{V \\times d}$ contains all word vectors as its rows.\n",
    "\n",
    "Popular methods for learning word embeddings include:\n",
    "\n",
    "- **Word2Vec**: Optimizes the probability of context words given a target word (Skip-gram) or the target word given context words (CBOW). For Skip-gram, the objective is to maximize:\n",
    "    $$\n",
    "    \\frac{1}{T} \\sum_{t=1}^{T} \\sum_{-c \\leq j \\leq c, j \\neq 0} \\log p(w_{t+j} \\mid w_t)\n",
    "    $$\n",
    "    where $c$ is the context window size.\n",
    "\n",
    "- **GloVe**: Learns embeddings by factorizing the word co-occurrence matrix. The objective is to minimize:\n",
    "    $$\n",
    "    J = \\sum_{i,j=1}^{V} f(X_{ij}) \\left( \\mathbf{v}_i^\\top \\mathbf{\\tilde{v}}_j + b_i + \\tilde{b}_j - \\log X_{ij} \\right)^2\n",
    "    $$\n",
    "    where $X_{ij}$ is the co-occurrence count of words $i$ and $j$, and $f$ is a weighting function.\n",
    "\n",
    "Word embeddings enable models to generalize better and perform well on various natural language processing tasks by capturing the underlying structure and meaning of language."
   ]
  },
  {
   "cell_type": "code",
   "execution_count": 467,
   "id": "9ca87275",
   "metadata": {},
   "outputs": [],
   "source": [
    "import pandas as pd\n",
    "import torch\n",
    "import torch.nn as nn\n",
    "import torch.nn.functional as F\n",
    "from torch.optim import Adam\n",
    "from torch.distributions.uniform import Uniform\n",
    "\n",
    "import lightning as L\n",
    "from torch.utils.data import TensorDataset, DataLoader\n",
    "\n",
    "import matplotlib.pyplot as plt\n",
    "import seaborn as sns\n"
   ]
  },
  {
   "cell_type": "markdown",
   "id": "d41a7cb1",
   "metadata": {},
   "source": [
    "## One-Hot Encoding for Training Data\n",
    "\n",
    "Let's perform one-hot encoding for the sentences:\n",
    "\n",
    "- \"Troll2 is great!\"\n",
    "- \"Gymkata\"\n",
    "\n",
    "### Step 1: Build the Vocabulary\n",
    "\n",
    "First, extract the unique words from both sentences:\n",
    "\n",
    "- \"Troll2\"\n",
    "- \"is\"\n",
    "- \"great!\"\n",
    "- \"Gymkata\"\n",
    "\n",
    "Vocabulary:  \n",
    "\n",
    "`['Troll2', 'is', 'great!', 'Gymkata']`\n",
    "\n",
    "### Step 2: Assign One-Hot Vectors\n",
    "\n",
    "Each word is represented by a vector of length 4 (since there are 4 unique words):\n",
    "\n",
    "| Word      | One-Hot Vector    |\n",
    "|-----------|-------------------|\n",
    "| Troll2    | [1, 0, 0, 0]      |\n",
    "| is        | [0, 1, 0, 0]      |\n",
    "| great!    | [0, 0, 1, 0]      |\n",
    "| Gymkata   | [0, 0, 0, 1]      |\n",
    "\n",
    "### Step 3: Encode the Sentences\n",
    "\n",
    "- \"Troll2 is great!\":  \n",
    "    `[1, 0, 0, 0]` (Troll2)  \n",
    "    `[0, 1, 0, 0]` (is)  \n",
    "    `[0, 0, 1, 0]` (great!)\n",
    "\n",
    "- \"Gymkata\":  \n",
    "    `[0, 0, 0, 1]` (Gymkata)"
   ]
  },
  {
   "cell_type": "code",
   "execution_count": 468,
   "id": "45e2b79c",
   "metadata": {},
   "outputs": [
    {
     "name": "stdout",
     "output_type": "stream",
     "text": [
      "Sentence: Troll2 is great!\n",
      "[[0. 1. 0. 0.]\n",
      " [0. 0. 0. 1.]\n",
      " [0. 0. 1. 0.]]\n",
      "Sentence: Gymkata is great!\n",
      "[[1. 0. 0. 0.]\n",
      " [0. 0. 0. 1.]\n",
      " [0. 0. 1. 0.]]\n"
     ]
    }
   ],
   "source": [
    "from sklearn.preprocessing import OneHotEncoder\n",
    "\n",
    "sentences = [[\"Troll2\", \"is\", \"great!\"], [\"Gymkata\", \"is\", \"great!\"]]\n",
    "\n",
    "# Flatten to get all unique words\n",
    "vocab = sorted(set(word for sent in sentences for word in sent))\n",
    "\n",
    "# Prepare data for OneHotEncoder\n",
    "data = []\n",
    "for sent in sentences:\n",
    "    data.extend([[word] for word in sent])\n",
    "\n",
    "encoder = OneHotEncoder(categories=[vocab], sparse_output=False)\n",
    "import numpy as np\n",
    "encoder.fit(np.array(data))\n",
    "\n",
    "import numpy as np\n",
    "\n",
    "# Encode each sentence\n",
    "encoded_sentences = [encoder.transform(np.array([[word] for word in sent])) for sent in sentences]\n",
    "\n",
    "for i, sent in enumerate(sentences):\n",
    "    print(f\"Sentence: {' '.join(sent)}\")\n",
    "    print(encoded_sentences[i])"
   ]
  },
  {
   "cell_type": "code",
   "execution_count": 469,
   "id": "e911fedb",
   "metadata": {},
   "outputs": [
    {
     "data": {
      "text/plain": [
       "['Gymkata', 'Troll2', 'great!', 'is']"
      ]
     },
     "execution_count": 469,
     "metadata": {},
     "output_type": "execute_result"
    }
   ],
   "source": [
    "vocab"
   ]
  },
  {
   "cell_type": "code",
   "execution_count": 470,
   "id": "831960a6",
   "metadata": {},
   "outputs": [
    {
     "data": {
      "text/plain": [
       "[array([[0., 1., 0., 0.],\n",
       "        [0., 0., 0., 1.],\n",
       "        [0., 0., 1., 0.]]),\n",
       " array([[1., 0., 0., 0.],\n",
       "        [0., 0., 0., 1.],\n",
       "        [0., 0., 1., 0.]])]"
      ]
     },
     "execution_count": 470,
     "metadata": {},
     "output_type": "execute_result"
    }
   ],
   "source": [
    "encoded_sentences"
   ]
  },
  {
   "cell_type": "code",
   "execution_count": 471,
   "id": "17b7dc2c",
   "metadata": {},
   "outputs": [
    {
     "name": "stdout",
     "output_type": "stream",
     "text": [
      "tensor([[0., 0., 1., 0.],\n",
      "        [0., 0., 0., 1.]]) tensor([0, 0])\n",
      "tensor([[0., 0., 0., 1.],\n",
      "        [0., 0., 1., 0.]]) tensor([0, 0])\n",
      "tensor([[0., 1., 0., 0.],\n",
      "        [1., 0., 0., 0.]]) tensor([0, 0])\n"
     ]
    }
   ],
   "source": [
    "# Convert encoded_sentences into torch tensors and concatenate for dataset\n",
    "\n",
    "# Flatten encoded_sentences into a single array for all words\n",
    "all_encoded = torch.tensor(\n",
    "    [vec for sent in encoded_sentences for vec in sent], dtype=torch.float32\n",
    ")\n",
    "\n",
    "# Example: dummy targets (e.g., all zeros, or use your own targets)\n",
    "targets = torch.zeros(len(all_encoded), dtype=torch.long)\n",
    "\n",
    "# Create TensorDataset and DataLoader\n",
    "dataset = TensorDataset(all_encoded, targets)\n",
    "dataloader = DataLoader(dataset, batch_size=2, shuffle=True)\n",
    "\n",
    "# Example: iterate through the dataloader\n",
    "for batch_x, batch_y in dataloader:\n",
    "    print(batch_x, batch_y)"
   ]
  },
  {
   "cell_type": "code",
   "execution_count": 472,
   "id": "07b8c245",
   "metadata": {},
   "outputs": [
    {
     "data": {
      "text/plain": [
       "torch.utils.data.dataset.TensorDataset"
      ]
     },
     "execution_count": 472,
     "metadata": {},
     "output_type": "execute_result"
    }
   ],
   "source": [
    "type(dataset)"
   ]
  },
  {
   "cell_type": "code",
   "execution_count": 473,
   "id": "8f03daf3",
   "metadata": {},
   "outputs": [
    {
     "data": {
      "text/plain": [
       "tensor([[0., 1., 0., 0.],\n",
       "        [0., 0., 0., 1.],\n",
       "        [0., 0., 1., 0.],\n",
       "        [1., 0., 0., 0.],\n",
       "        [0., 0., 0., 1.],\n",
       "        [0., 0., 1., 0.]])"
      ]
     },
     "execution_count": 473,
     "metadata": {},
     "output_type": "execute_result"
    }
   ],
   "source": [
    "all_encoded"
   ]
  },
  {
   "cell_type": "code",
   "execution_count": 474,
   "id": "bf3c5565",
   "metadata": {},
   "outputs": [],
   "source": [
    "class WordEmbeddingScratch(L.LightningModule):\n",
    "    def __init__(self, vocab_size=len(vocab), embed_dim=2):\n",
    "        super().__init__()\n",
    "        self.vocab_size = vocab_size\n",
    "        self.embed_dim = embed_dim\n",
    "\n",
    "        # Embedding matrix as a learnable parameter\n",
    "        self.embedding = nn.Parameter(\n",
    "            Uniform(-0.5, 0.5).sample((vocab_size, embed_dim))\n",
    "        )\n",
    "    \n",
    "    def forward(self, input):\n",
    "        # input: one-hot vectors, shape (batch_size, vocab_size)\n",
    "        # embedding: (vocab_size, embed_dim)\n",
    "        # output: (batch_size, embed_dim)\n",
    "        return input @ self.embedding\n",
    "    \n",
    "    def configure_optimizers(self):\n",
    "        return Adam(self.parameters(), lr=0.1)\n",
    "    \n",
    "    def training_step(self, batch, batch_idx):\n",
    "        x, y = batch\n",
    "        emb = self.forward(x)\n",
    "        # Example loss: L2 norm of embeddings (for demonstration)\n",
    "        loss = torch.norm(emb)\n",
    "        self.log(\"train_loss\", loss)\n",
    "        return loss\n"
   ]
  },
  {
   "cell_type": "code",
   "execution_count": 475,
   "id": "0a935d73",
   "metadata": {},
   "outputs": [],
   "source": [
    "model = WordEmbeddingScratch()"
   ]
  },
  {
   "cell_type": "code",
   "execution_count": 476,
   "id": "fc5712eb",
   "metadata": {},
   "outputs": [
    {
     "name": "stdout",
     "output_type": "stream",
     "text": [
      "before optimization, parameter embedding is:\n",
      "tensor([[ 0.4874, -0.0316],\n",
      "        [-0.4759,  0.0929],\n",
      "        [ 0.2836,  0.0254],\n",
      "        [-0.4964,  0.0381]])\n"
     ]
    }
   ],
   "source": [
    "for name, param in model.named_parameters():\n",
    "    print(f'before optimization, parameter {name} is:\\n{param.data}')"
   ]
  },
  {
   "cell_type": "code",
   "execution_count": 477,
   "id": "999bca63",
   "metadata": {},
   "outputs": [
    {
     "data": {
      "text/html": [
       "<div>\n",
       "<style scoped>\n",
       "    .dataframe tbody tr th:only-of-type {\n",
       "        vertical-align: middle;\n",
       "    }\n",
       "\n",
       "    .dataframe tbody tr th {\n",
       "        vertical-align: top;\n",
       "    }\n",
       "\n",
       "    .dataframe thead th {\n",
       "        text-align: right;\n",
       "    }\n",
       "</style>\n",
       "<table border=\"1\" class=\"dataframe\">\n",
       "  <thead>\n",
       "    <tr style=\"text-align: right;\">\n",
       "      <th></th>\n",
       "      <th>dim_0</th>\n",
       "      <th>dim_1</th>\n",
       "    </tr>\n",
       "  </thead>\n",
       "  <tbody>\n",
       "    <tr>\n",
       "      <th>Gymkata</th>\n",
       "      <td>0.487424</td>\n",
       "      <td>-0.031631</td>\n",
       "    </tr>\n",
       "    <tr>\n",
       "      <th>Troll2</th>\n",
       "      <td>-0.475868</td>\n",
       "      <td>0.092907</td>\n",
       "    </tr>\n",
       "    <tr>\n",
       "      <th>great!</th>\n",
       "      <td>0.283612</td>\n",
       "      <td>0.025412</td>\n",
       "    </tr>\n",
       "    <tr>\n",
       "      <th>is</th>\n",
       "      <td>-0.496423</td>\n",
       "      <td>0.038072</td>\n",
       "    </tr>\n",
       "  </tbody>\n",
       "</table>\n",
       "</div>"
      ],
      "text/plain": [
       "            dim_0     dim_1\n",
       "Gymkata  0.487424 -0.031631\n",
       "Troll2  -0.475868  0.092907\n",
       "great!   0.283612  0.025412\n",
       "is      -0.496423  0.038072"
      ]
     },
     "execution_count": 477,
     "metadata": {},
     "output_type": "execute_result"
    }
   ],
   "source": [
    "embedding_df = pd.DataFrame(param.data.numpy(), index=vocab, columns=[f\"dim_{i}\" for i in range(param.data.shape[1])])\n",
    "embedding_df"
   ]
  },
  {
   "cell_type": "code",
   "execution_count": 478,
   "id": "a5c98f27",
   "metadata": {},
   "outputs": [
    {
     "data": {
      "image/png": "[encoded data removed]",
      "text/plain": [
       "<Figure size 600x600 with 1 Axes>"
      ]
     },
     "metadata": {},
     "output_type": "display_data"
    }
   ],
   "source": [
    "plt.figure(figsize=(6, 6))\n",
    "sns.scatterplot(\n",
    "    x=\"dim_0\", y=\"dim_1\", data=embedding_df, s=100\n",
    ")\n",
    "\n",
    "for word, row in embedding_df.iterrows():\n",
    "    plt.text(float(row[\"dim_0\"]) + 0.02, float(row[\"dim_1\"]), str(word), fontsize=12)\n",
    "\n",
    "plt.title(\"Word Embeddings Visualization\")\n",
    "plt.xlabel(\"Dimension 0\")\n",
    "plt.ylabel(\"Dimension 1\")\n",
    "plt.grid(True)\n",
    "plt.show()"
   ]
  },
  {
   "cell_type": "code",
   "execution_count": 479,
   "id": "1fa6adbf",
   "metadata": {},
   "outputs": [
    {
     "name": "stderr",
     "output_type": "stream",
     "text": [
      "Using default `ModelCheckpoint`. Consider installing `litmodels` package to enable `LitModelCheckpoint` for automatic upload to the Lightning model registry.\n",
      "GPU available: True (mps), used: True\n",
      "TPU available: False, using: 0 TPU cores\n",
      "HPU available: False, using: 0 HPUs\n",
      "\n",
      "  | Name         | Type | Params | Mode\n",
      "---------------------------------------------\n",
      "  | other params | n/a  | 8      | n/a \n",
      "---------------------------------------------\n",
      "8         Trainable params\n",
      "0         Non-trainable params\n",
      "8         Total params\n",
      "0.000     Total estimated model params size (MB)\n",
      "0         Modules in train mode\n",
      "0         Modules in eval mode\n",
      "/Users/bishwashchaudhari/quests/venv/lib/python3.13/site-packages/lightning/pytorch/trainer/connectors/data_connector.py:425: The 'train_dataloader' does not have many workers which may be a bottleneck. Consider increasing the value of the `num_workers` argument` to `num_workers=7` in the `DataLoader` to improve performance.\n",
      "/Users/bishwashchaudhari/quests/venv/lib/python3.13/site-packages/lightning/pytorch/loops/fit_loop.py:310: The number of training batches (3) is smaller than the logging interval Trainer(log_every_n_steps=50). Set a lower value for log_every_n_steps if you want to see logs for the training epoch.\n"
     ]
    },
    {
     "name": "stdout",
     "output_type": "stream",
     "text": [
      "Epoch 199: 100%|██████████| 3/3 [00:00<00:00, 206.46it/s, v_num=30]"
     ]
    },
    {
     "name": "stderr",
     "output_type": "stream",
     "text": [
      "`Trainer.fit` stopped: `max_epochs=200` reached.\n"
     ]
    },
    {
     "name": "stdout",
     "output_type": "stream",
     "text": [
      "Epoch 199: 100%|██████████| 3/3 [00:00<00:00, 174.06it/s, v_num=30]\n"
     ]
    }
   ],
   "source": [
    "trainer = L.Trainer(max_epochs=200)\n",
    "trainer.fit(model,train_dataloaders=dataloader)"
   ]
  },
  {
   "cell_type": "code",
   "execution_count": 480,
   "id": "5afec4c2",
   "metadata": {},
   "outputs": [
    {
     "data": {
      "text/html": [
       "<div>\n",
       "<style scoped>\n",
       "    .dataframe tbody tr th:only-of-type {\n",
       "        vertical-align: middle;\n",
       "    }\n",
       "\n",
       "    .dataframe tbody tr th {\n",
       "        vertical-align: top;\n",
       "    }\n",
       "\n",
       "    .dataframe thead th {\n",
       "        text-align: right;\n",
       "    }\n",
       "</style>\n",
       "<table border=\"1\" class=\"dataframe\">\n",
       "  <thead>\n",
       "    <tr style=\"text-align: right;\">\n",
       "      <th></th>\n",
       "      <th>dim_0</th>\n",
       "      <th>dim_1</th>\n",
       "    </tr>\n",
       "  </thead>\n",
       "  <tbody>\n",
       "    <tr>\n",
       "      <th>Gymkata</th>\n",
       "      <td>-0.000205</td>\n",
       "      <td>-0.062729</td>\n",
       "    </tr>\n",
       "    <tr>\n",
       "      <th>Troll2</th>\n",
       "      <td>0.022924</td>\n",
       "      <td>-0.007418</td>\n",
       "    </tr>\n",
       "    <tr>\n",
       "      <th>great!</th>\n",
       "      <td>0.004835</td>\n",
       "      <td>-0.000361</td>\n",
       "    </tr>\n",
       "    <tr>\n",
       "      <th>is</th>\n",
       "      <td>-0.008390</td>\n",
       "      <td>-0.029940</td>\n",
       "    </tr>\n",
       "  </tbody>\n",
       "</table>\n",
       "</div>"
      ],
      "text/plain": [
       "            dim_0     dim_1\n",
       "Gymkata -0.000205 -0.062729\n",
       "Troll2   0.022924 -0.007418\n",
       "great!   0.004835 -0.000361\n",
       "is      -0.008390 -0.029940"
      ]
     },
     "execution_count": 480,
     "metadata": {},
     "output_type": "execute_result"
    }
   ],
   "source": [
    "embedding_df = pd.DataFrame(model.embedding.data.numpy(), index=vocab, columns=[f\"dim_{i}\" for i in range(model.embedding.data.shape[1])])\n",
    "embedding_df\n"
   ]
  },
  {
   "cell_type": "code",
   "execution_count": 481,
   "id": "ef2fe46a",
   "metadata": {},
   "outputs": [
    {
     "data": {
      "image/png": "[encoded data removed]",
      "text/plain": [
       "<Figure size 600x600 with 1 Axes>"
      ]
     },
     "metadata": {},
     "output_type": "display_data"
    }
   ],
   "source": [
    "plt.figure(figsize=(6, 6))\n",
    "sns.scatterplot(\n",
    "    x=\"dim_0\", y=\"dim_1\", data=embedding_df, s=100\n",
    ")\n",
    "\n",
    "for word, row in embedding_df.iterrows():\n",
    "    plt.text(float(row[\"dim_0\"]) + 0.02, float(row[\"dim_1\"]), str(word), fontsize=12)\n",
    "\n",
    "plt.title(\"Word Embeddings Visualization\")\n",
    "plt.xlabel(\"Dimension 0\")\n",
    "plt.ylabel(\"Dimension 1\")\n",
    "plt.grid(True)\n",
    "plt.show()"
   ]
  },
  {
   "cell_type": "code",
   "execution_count": 482,
   "id": "117344bf",
   "metadata": {},
   "outputs": [
    {
     "name": "stdout",
     "output_type": "stream",
     "text": [
      "tensor([[0., 0.],\n",
      "        [0., 0.],\n",
      "        [0., 0.],\n",
      "        [0., 0.],\n",
      "        [0., 0.],\n",
      "        [0., 0.]], grad_fn=<RoundBackward0>)\n"
     ]
    }
   ],
   "source": [
    "softmax = nn.Softmax(dim=0)\n",
    "print(torch.round(softmax(model(all_encoded))))\n"
   ]
  },
  {
   "cell_type": "markdown",
   "id": "241e07b8",
   "metadata": {},
   "source": [
    "## With PyTorch Linear()"
   ]
  },
  {
   "cell_type": "code",
   "execution_count": 483,
   "id": "ac5d3887",
   "metadata": {},
   "outputs": [],
   "source": [
    "class WordEmbeddingLinear(L.LightningModule):\n",
    "    def __init__(self):\n",
    "        super().__init__()\n",
    "        \n",
    "        self.input_to_hidden = nn.Linear(in_features=4, out_features=2, bias=False)\n",
    "        self.hidden_to_output = nn.Linear(in_features=2, out_features=4, bias=False)\n",
    "        self.loss = nn.CrossEntropyLoss()\n",
    "        \n",
    "    def forward(self, input):\n",
    "        hidden = self.input_to_hidden(input)\n",
    "        output_values = self.hidden_to_output(hidden)\n",
    "        return output_values\n",
    "    \n",
    "    def configure_optimizers(self):\n",
    "        return Adam(self.parameters(), lr=0.1)\n",
    "    \n",
    "    def training_step(self,batch, batch_idx):\n",
    "        input_i, label_i = batch\n",
    "        output_i = self.forward(input_i)\n",
    "        loss = self.loss(output_i,label_i)\n",
    "        return loss\n",
    "        \n",
    "        \n",
    "        "
   ]
  },
  {
   "cell_type": "code",
   "execution_count": 484,
   "id": "446df606",
   "metadata": {},
   "outputs": [
    {
     "data": {
      "text/html": [
       "<div>\n",
       "<style scoped>\n",
       "    .dataframe tbody tr th:only-of-type {\n",
       "        vertical-align: middle;\n",
       "    }\n",
       "\n",
       "    .dataframe tbody tr th {\n",
       "        vertical-align: top;\n",
       "    }\n",
       "\n",
       "    .dataframe thead th {\n",
       "        text-align: right;\n",
       "    }\n",
       "</style>\n",
       "<table border=\"1\" class=\"dataframe\">\n",
       "  <thead>\n",
       "    <tr style=\"text-align: right;\">\n",
       "      <th></th>\n",
       "      <th>w1</th>\n",
       "      <th>w2</th>\n",
       "      <th>token</th>\n",
       "      <th>input</th>\n",
       "    </tr>\n",
       "  </thead>\n",
       "  <tbody>\n",
       "    <tr>\n",
       "      <th>0</th>\n",
       "      <td>0.185975</td>\n",
       "      <td>-0.152913</td>\n",
       "      <td>Troll2</td>\n",
       "      <td>input1</td>\n",
       "    </tr>\n",
       "    <tr>\n",
       "      <th>1</th>\n",
       "      <td>0.010450</td>\n",
       "      <td>0.441812</td>\n",
       "      <td>is</td>\n",
       "      <td>input2</td>\n",
       "    </tr>\n",
       "    <tr>\n",
       "      <th>2</th>\n",
       "      <td>-0.145409</td>\n",
       "      <td>-0.017726</td>\n",
       "      <td>great</td>\n",
       "      <td>input3</td>\n",
       "    </tr>\n",
       "    <tr>\n",
       "      <th>3</th>\n",
       "      <td>0.485694</td>\n",
       "      <td>0.250518</td>\n",
       "      <td>Gymkata</td>\n",
       "      <td>input4</td>\n",
       "    </tr>\n",
       "  </tbody>\n",
       "</table>\n",
       "</div>"
      ],
      "text/plain": [
       "         w1        w2    token   input\n",
       "0  0.185975 -0.152913   Troll2  input1\n",
       "1  0.010450  0.441812       is  input2\n",
       "2 -0.145409 -0.017726    great  input3\n",
       "3  0.485694  0.250518  Gymkata  input4"
      ]
     },
     "execution_count": 484,
     "metadata": {},
     "output_type": "execute_result"
    }
   ],
   "source": [
    "modellinear = WordEmbeddingLinear()\n",
    "\n",
    "data = {\n",
    "    'w1': modellinear.input_to_hidden.weight.detach()[0].numpy(),\n",
    "    'w2': modellinear.input_to_hidden.weight.detach()[1].numpy(),\n",
    "    \n",
    "    'token':[\"Troll2\",'is','great','Gymkata'],\n",
    "    \"input\":['input1','input2','input3', 'input4']\n",
    "}\n",
    "df = pd.DataFrame(data)\n",
    "df"
   ]
  },
  {
   "cell_type": "code",
   "execution_count": 485,
   "id": "ecd5fb42",
   "metadata": {},
   "outputs": [
    {
     "data": {
      "image/png": "[encoded data removed]",
      "text/plain": [
       "<Figure size 640x480 with 1 Axes>"
      ]
     },
     "metadata": {},
     "output_type": "display_data"
    }
   ],
   "source": [
    "for idx in range(len(df)):\n",
    "    plt.text(df.w1[idx], df.w2[idx], df.token[idx],\n",
    "             horizontalalignment='left',\n",
    "             size='medium',\n",
    "             color='black',\n",
    "             weight='semibold')\n",
    "plt.show()"
   ]
  },
  {
   "cell_type": "code",
   "execution_count": 486,
   "id": "36319c7a",
   "metadata": {},
   "outputs": [
    {
     "name": "stderr",
     "output_type": "stream",
     "text": [
      "Using default `ModelCheckpoint`. Consider installing `litmodels` package to enable `LitModelCheckpoint` for automatic upload to the Lightning model registry.\n",
      "GPU available: True (mps), used: True\n",
      "TPU available: False, using: 0 TPU cores\n",
      "HPU available: False, using: 0 HPUs\n",
      "\n",
      "  | Name             | Type             | Params | Mode \n",
      "--------------------------------------------------------------\n",
      "0 | input_to_hidden  | Linear           | 8      | train\n",
      "1 | hidden_to_output | Linear           | 8      | train\n",
      "2 | loss             | CrossEntropyLoss | 0      | train\n",
      "--------------------------------------------------------------\n",
      "16        Trainable params\n",
      "0         Non-trainable params\n",
      "16        Total params\n",
      "0.000     Total estimated model params size (MB)\n",
      "3         Modules in train mode\n",
      "0         Modules in eval mode\n",
      "/Users/bishwashchaudhari/quests/venv/lib/python3.13/site-packages/lightning/pytorch/trainer/connectors/data_connector.py:425: The 'train_dataloader' does not have many workers which may be a bottleneck. Consider increasing the value of the `num_workers` argument` to `num_workers=7` in the `DataLoader` to improve performance.\n",
      "/Users/bishwashchaudhari/quests/venv/lib/python3.13/site-packages/lightning/pytorch/loops/fit_loop.py:310: The number of training batches (3) is smaller than the logging interval Trainer(log_every_n_steps=50). Set a lower value for log_every_n_steps if you want to see logs for the training epoch.\n"
     ]
    },
    {
     "name": "stdout",
     "output_type": "stream",
     "text": [
      "Epoch 599: 100%|██████████| 3/3 [00:00<00:00, 295.10it/s, v_num=31]"
     ]
    },
    {
     "name": "stderr",
     "output_type": "stream",
     "text": [
      "`Trainer.fit` stopped: `max_epochs=600` reached.\n"
     ]
    },
    {
     "name": "stdout",
     "output_type": "stream",
     "text": [
      "Epoch 599: 100%|██████████| 3/3 [00:00<00:00, 208.35it/s, v_num=31]\n"
     ]
    }
   ],
   "source": [
    "trainer = L.Trainer(max_epochs=600)\n",
    "trainer.fit(modellinear,train_dataloaders=dataloader)"
   ]
  },
  {
   "cell_type": "code",
   "execution_count": 487,
   "id": "8d0a829e",
   "metadata": {},
   "outputs": [
    {
     "data": {
      "image/png": "[encoded data removed]",
      "text/plain": [
       "<Figure size 640x480 with 1 Axes>"
      ]
     },
     "metadata": {},
     "output_type": "display_data"
    }
   ],
   "source": [
    "for idx in range(len(df)):\n",
    "    plt.text(df.w1[idx], df.w2[idx], df.token[idx],\n",
    "             horizontalalignment='left',\n",
    "             size='medium',\n",
    "             color='black',\n",
    "             weight='semibold')\n",
    "plt.show()"
   ]
  },
  {
   "cell_type": "code",
   "execution_count": 488,
   "id": "1732af19",
   "metadata": {},
   "outputs": [
    {
     "data": {
      "text/plain": [
       "Parameter containing:\n",
       "tensor([[ 1.9936,  1.8997,  2.1067,  2.3762],\n",
       "        [ 0.4555,  1.0808,  0.4418, -0.1734]], requires_grad=True)"
      ]
     },
     "execution_count": 488,
     "metadata": {},
     "output_type": "execute_result"
    }
   ],
   "source": [
    "modellinear.input_to_hidden.weight"
   ]
  },
  {
   "cell_type": "markdown",
   "id": "ecc5aaee",
   "metadata": {},
   "source": [
    "## Using Pretrained WordEmbedding"
   ]
  },
  {
   "cell_type": "code",
   "execution_count": 489,
   "id": "215c4406",
   "metadata": {},
   "outputs": [],
   "source": [
    "word_embeddings = nn.Embedding.from_pretrained(modellinear.input_to_hidden.weight.T)"
   ]
  },
  {
   "cell_type": "code",
   "execution_count": 490,
   "id": "258e0d25",
   "metadata": {},
   "outputs": [
    {
     "data": {
      "text/plain": [
       "Parameter containing:\n",
       "tensor([[ 1.9936,  0.4555],\n",
       "        [ 1.8997,  1.0808],\n",
       "        [ 2.1067,  0.4418],\n",
       "        [ 2.3762, -0.1734]])"
      ]
     },
     "execution_count": 490,
     "metadata": {},
     "output_type": "execute_result"
    }
   ],
   "source": [
    "word_embeddings.weight"
   ]
  },
  {
   "cell_type": "code",
   "execution_count": 491,
   "id": "6c8b9f52",
   "metadata": {},
   "outputs": [
    {
     "data": {
      "text/plain": [
       "tensor([1.9936, 0.4555])"
      ]
     },
     "execution_count": 491,
     "metadata": {},
     "output_type": "execute_result"
    }
   ],
   "source": [
    "word_embeddings(torch.tensor(0))"
   ]
  },
  {
   "cell_type": "code",
   "execution_count": 492,
   "id": "4d54d343",
   "metadata": {},
   "outputs": [],
   "source": [
    "vocab = {\n",
    "    'Troll2':0,\n",
    "    'is':1,\n",
    "    'great':2,\n",
    "    'Gymkata':3\n",
    "}"
   ]
  },
  {
   "cell_type": "code",
   "execution_count": 493,
   "id": "422f1570",
   "metadata": {},
   "outputs": [
    {
     "data": {
      "text/plain": [
       "tensor([1.9936, 0.4555])"
      ]
     },
     "execution_count": 493,
     "metadata": {},
     "output_type": "execute_result"
    }
   ],
   "source": [
    "word_embeddings(torch.tensor(vocab['Troll2']))"
   ]
  },
  {
   "cell_type": "code",
   "execution_count": 494,
   "id": "ee00fb7c",
   "metadata": {},
   "outputs": [
    {
     "data": {
      "image/png": "[encoded data removed]",
      "text/plain": [
       "<Figure size 640x480 with 1 Axes>"
      ]
     },
     "metadata": {},
     "output_type": "display_data"
    }
   ],
   "source": [
    "for idx in range(len(df)):\n",
    "    plt.text(df.w1[idx], df.w2[idx], df.token[idx],\n",
    "             horizontalalignment='left',\n",
    "             size='medium',\n",
    "             color='black',\n",
    "             weight='semibold')\n",
    "plt.show()"
   ]
  }
 ],
 "metadata": {
  "kernelspec": {
   "display_name": "venv",
   "language": "python",
   "name": "python3"
  },
  "language_info": {
   "codemirror_mode": {
    "name": "ipython",
    "version": 3
   },
   "file_extension": ".py",
   "mimetype": "text/x-python",
   "name": "python",
   "nbconvert_exporter": "python",
   "pygments_lexer": "ipython3",
   "version": "3.13.2"
  }
 },
 "nbformat": 4,
 "nbformat_minor": 5
}

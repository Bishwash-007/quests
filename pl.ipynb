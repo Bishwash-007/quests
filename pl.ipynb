{
 "cells": [
  {
   "cell_type": "code",
   "execution_count": 421,
   "id": "85ecb402",
   "metadata": {},
   "outputs": [],
   "source": [
    "import torch\n",
    "import torch.nn as nn\n",
    "import torch.nn.functional as F \n",
    "from torch.optim import SGD\n",
    "\n",
    "import lightning as L\n",
    "from torch.utils.data import DataLoader, TensorDataset\n",
    "\n",
    "import matplotlib.pyplot as plt\n",
    "import seaborn as sns"
   ]
  },
  {
   "cell_type": "code",
   "execution_count": 422,
   "id": "146c6876",
   "metadata": {},
   "outputs": [],
   "source": [
    "w = 0.7\n",
    "b = 0.2"
   ]
  },
  {
   "cell_type": "code",
   "execution_count": 423,
   "id": "9c61741b",
   "metadata": {},
   "outputs": [],
   "source": [
    "class BasicLightning(L.LightningModule):\n",
    "    def __init__(self):\n",
    "        super().__init__()\n",
    "        self.w00 = nn.Parameter(torch.tensor(1.7), requires_grad=False )\n",
    "        self.b00 = nn.Parameter(torch.tensor(-0.85), requires_grad=False)\n",
    "        self.w01 = nn.Parameter(torch.tensor(-40.8), requires_grad=False )\n",
    "        \n",
    "        self.w10 = nn.Parameter(torch.tensor(12.6), requires_grad=False )\n",
    "        self.b10 = nn.Parameter(torch.tensor(0.0), requires_grad=False)\n",
    "        self.w11 = nn.Parameter(torch.tensor(2.7), requires_grad=False )\n",
    "        \n",
    "        self.final_bias = nn.Parameter(torch.tensor(-16.0),requires_grad=False)\n",
    "        \n",
    "    def forward(self,input): \n",
    "        input_to_top = input* self.w00 + self.b00\n",
    "        top_relu_output = F.relu(input_to_top)\n",
    "        \n",
    "        scaled_top_relu = top_relu_output*self.w01\n",
    "        \n",
    "        input_to_bottom = input* self.w10 + self.b10\n",
    "        bottom_relu_output = F.relu(input_to_bottom)\n",
    "        \n",
    "        scaled_bottom_relu = bottom_relu_output*self.w11\n",
    "        \n",
    "        input_to_final_relu = scaled_bottom_relu +scaled_top_relu +self.final_bias \n",
    "        output = F.relu(input_to_final_relu)\n",
    "        \n",
    "        return output\n",
    "        "
   ]
  },
  {
   "cell_type": "code",
   "execution_count": 424,
   "id": "8143b6fe",
   "metadata": {},
   "outputs": [
    {
     "data": {
      "text/plain": [
       "tensor([0.0000, 0.1000, 0.2000, 0.3000, 0.4000, 0.5000, 0.6000, 0.7000, 0.8000,\n",
       "        0.9000, 1.0000])"
      ]
     },
     "execution_count": 424,
     "metadata": {},
     "output_type": "execute_result"
    }
   ],
   "source": [
    "input_doses = torch.linspace(start=0, end=1 , steps=11)\n",
    "input_doses"
   ]
  },
  {
   "cell_type": "code",
   "execution_count": 425,
   "id": "f5fe17c1",
   "metadata": {},
   "outputs": [],
   "source": [
    "model = BasicLightning()"
   ]
  },
  {
   "cell_type": "code",
   "execution_count": 426,
   "id": "d392efa5",
   "metadata": {},
   "outputs": [
    {
     "data": {
      "text/plain": [
       "tensor([0.0000, 0.0000, 0.0000, 0.0000, 0.0000, 1.0100, 0.0000, 0.0000, 0.0000,\n",
       "        0.0000, 0.0000])"
      ]
     },
     "execution_count": 426,
     "metadata": {},
     "output_type": "execute_result"
    }
   ],
   "source": [
    "output = model(input_doses)\n",
    "output"
   ]
  },
  {
   "cell_type": "code",
   "execution_count": 427,
   "id": "6bb177ba",
   "metadata": {},
   "outputs": [
    {
     "data": {
      "text/plain": [
       "Text(0.5, 0, 'doses')"
      ]
     },
     "execution_count": 427,
     "metadata": {},
     "output_type": "execute_result"
    },
    {
     "data": {
      "image/png": "[encoded data removed]",
      "text/plain": [
       "<Figure size 640x480 with 1 Axes>"
      ]
     },
     "metadata": {},
     "output_type": "display_data"
    }
   ],
   "source": [
    "sns.set_theme('notebook')\n",
    "sns.lineplot(x=input_doses.numpy(), y=output.detach().numpy(), linewidth=2.5)\n",
    "plt.ylabel('effectiveness')\n",
    "plt.xlabel('doses')"
   ]
  },
  {
   "cell_type": "code",
   "execution_count": 428,
   "id": "ad414ce3",
   "metadata": {},
   "outputs": [],
   "source": [
    "class BasicLightningTrain(L.LightningModule):\n",
    "    def __init__(self):\n",
    "        super().__init__()\n",
    "        self.w00 = nn.Parameter(torch.tensor(1.7), requires_grad=False )\n",
    "        self.b00 = nn.Parameter(torch.tensor(-0.85), requires_grad=False)\n",
    "        self.w01 = nn.Parameter(torch.tensor(-40.8), requires_grad=False )\n",
    "        \n",
    "        self.w10 = nn.Parameter(torch.tensor(12.6), requires_grad=False )\n",
    "        self.b10 = nn.Parameter(torch.tensor(0.0), requires_grad=False)\n",
    "        self.w11 = nn.Parameter(torch.tensor(2.7), requires_grad=False )\n",
    "        \n",
    "        self.final_bias = nn.Parameter(torch.tensor(0.),requires_grad=True)\n",
    "        self.learning_rate = 0.1\n",
    "        \n",
    "    def forward(self,input):  \n",
    "        input_to_top = input* self.w00 + self.b00\n",
    "        top_relu_output = F.relu(input_to_top)\n",
    "        \n",
    "        scaled_top_relu = top_relu_output*self.w01\n",
    "        \n",
    "        input_to_bottom = input* self.w10 + self.b10\n",
    "        bottom_relu_output = F.relu(input_to_bottom)\n",
    "        \n",
    "        scaled_bottom_relu = bottom_relu_output*self.w11\n",
    "        \n",
    "        input_to_final_relu = scaled_bottom_relu +scaled_top_relu +self.final_bias \n",
    "        output = F.relu(input_to_final_relu)\n",
    "        \n",
    "        return output\n",
    "    \n",
    "    def configure_optimizers(self):\n",
    "        return SGD(self.parameters(), lr = self.learning_rate)\n",
    "    \n",
    "    def training_steps(self,batch,batch_idx):\n",
    "        input_i , label_i = batch\n",
    "        output_i = self.forward(input_i)\n",
    "        loss = (output_i - label_i)**2\n",
    "        \n",
    "        return loss\n",
    "    \n",
    "    \n",
    "        "
   ]
  },
  {
   "cell_type": "code",
   "execution_count": 429,
   "id": "2c174cd6",
   "metadata": {},
   "outputs": [],
   "source": [
    "inputs = torch.tensor([0., .5, 1.])\n",
    "labels = torch.tensor([0., 1., 0.])"
   ]
  },
  {
   "cell_type": "code",
   "execution_count": 430,
   "id": "0af758e2",
   "metadata": {},
   "outputs": [],
   "source": [
    "dataset = TensorDataset(inputs,labels)\n",
    "dataloader = DataLoader(dataset=dataset)"
   ]
  },
  {
   "cell_type": "code",
   "execution_count": 431,
   "id": "b895468e",
   "metadata": {},
   "outputs": [
    {
     "data": {
      "text/plain": [
       "<torch.utils.data.dataloader.DataLoader at 0x15a0702d0>"
      ]
     },
     "execution_count": 431,
     "metadata": {},
     "output_type": "execute_result"
    }
   ],
   "source": [
    "dataloader"
   ]
  },
  {
   "cell_type": "code",
   "execution_count": 432,
   "id": "0f866278",
   "metadata": {},
   "outputs": [],
   "source": [
    "model1 = BasicLightningTrain()"
   ]
  },
  {
   "cell_type": "code",
   "execution_count": 433,
   "id": "fc4baa97",
   "metadata": {},
   "outputs": [],
   "source": [
    "from lightning.pytorch import Trainer"
   ]
  },
  {
   "cell_type": "code",
   "execution_count": 434,
   "id": "85a44433",
   "metadata": {},
   "outputs": [
    {
     "name": "stderr",
     "output_type": "stream",
     "text": [
      "Using default `ModelCheckpoint`. Consider installing `litmodels` package to enable `LitModelCheckpoint` for automatic upload to the Lightning model registry.\n",
      "GPU available: True (mps), used: True\n",
      "TPU available: False, using: 0 TPU cores\n",
      "HPU available: False, using: 0 HPUs\n"
     ]
    }
   ],
   "source": [
    "trainer = Trainer(max_epochs=34)"
   ]
  },
  {
   "cell_type": "code",
   "execution_count": 435,
   "id": "85f90321",
   "metadata": {},
   "outputs": [
    {
     "ename": "MisconfigurationException",
     "evalue": "In tuner with method='fit', `dataloaders` argument should be None, please consider setting `train_dataloaders` and `val_dataloaders` instead.",
     "output_type": "error",
     "traceback": [
      "\u001b[31m---------------------------------------------------------------------------\u001b[39m",
      "\u001b[31mMisconfigurationException\u001b[39m                 Traceback (most recent call last)",
      "\u001b[36mCell\u001b[39m\u001b[36m \u001b[39m\u001b[32mIn[435]\u001b[39m\u001b[32m, line 5\u001b[39m\n\u001b[32m      1\u001b[39m \u001b[38;5;28;01mfrom\u001b[39;00m\u001b[38;5;250m \u001b[39m\u001b[34;01mlightning\u001b[39;00m\u001b[34;01m.\u001b[39;00m\u001b[34;01mpytorch\u001b[39;00m\u001b[34;01m.\u001b[39;00m\u001b[34;01mtuner\u001b[39;00m\u001b[34;01m.\u001b[39;00m\u001b[34;01mtuning\u001b[39;00m\u001b[38;5;250m \u001b[39m\u001b[38;5;28;01mimport\u001b[39;00m Tuner\n\u001b[32m      3\u001b[39m tuner = Tuner(trainer)\n\u001b[32m----> \u001b[39m\u001b[32m5\u001b[39m lrfinder = \u001b[43mtuner\u001b[49m\u001b[43m.\u001b[49m\u001b[43mlr_find\u001b[49m\u001b[43m(\u001b[49m\u001b[43mmodel\u001b[49m\u001b[43m=\u001b[49m\u001b[43mmodel1\u001b[49m\u001b[43m,\u001b[49m\u001b[43m \u001b[49m\u001b[43mdataloaders\u001b[49m\u001b[43m=\u001b[49m\u001b[43mdataloader\u001b[49m\u001b[43m,\u001b[49m\u001b[43m \u001b[49m\u001b[43mmin_lr\u001b[49m\u001b[43m=\u001b[49m\u001b[32;43m0.01\u001b[39;49m\u001b[43m,\u001b[49m\u001b[43m \u001b[49m\u001b[43mmax_lr\u001b[49m\u001b[43m=\u001b[49m\u001b[32;43m1\u001b[39;49m\u001b[43m,\u001b[49m\u001b[43m \u001b[49m\u001b[43mearly_stop_threshold\u001b[49m\u001b[43m=\u001b[49m\u001b[38;5;28;43;01mNone\u001b[39;49;00m\u001b[43m)\u001b[49m\n",
      "\u001b[36mFile \u001b[39m\u001b[32m~/quests/venv/lib/python3.13/site-packages/lightning/pytorch/tuner/tuning.py:161\u001b[39m, in \u001b[36mTuner.lr_find\u001b[39m\u001b[34m(self, model, train_dataloaders, val_dataloaders, dataloaders, datamodule, method, min_lr, max_lr, num_training, mode, early_stop_threshold, update_attr, attr_name)\u001b[39m\n\u001b[32m    158\u001b[39m \u001b[38;5;28;01mif\u001b[39;00m method != \u001b[33m\"\u001b[39m\u001b[33mfit\u001b[39m\u001b[33m\"\u001b[39m:\n\u001b[32m    159\u001b[39m     \u001b[38;5;28;01mraise\u001b[39;00m MisconfigurationException(\u001b[33m\"\u001b[39m\u001b[33mmethod=\u001b[39m\u001b[33m'\u001b[39m\u001b[33mfit\u001b[39m\u001b[33m'\u001b[39m\u001b[33m is the only valid configuration to run lr finder.\u001b[39m\u001b[33m\"\u001b[39m)\n\u001b[32m--> \u001b[39m\u001b[32m161\u001b[39m \u001b[43m_check_tuner_configuration\u001b[49m\u001b[43m(\u001b[49m\u001b[43mtrain_dataloaders\u001b[49m\u001b[43m,\u001b[49m\u001b[43m \u001b[49m\u001b[43mval_dataloaders\u001b[49m\u001b[43m,\u001b[49m\u001b[43m \u001b[49m\u001b[43mdataloaders\u001b[49m\u001b[43m,\u001b[49m\u001b[43m \u001b[49m\u001b[43mmethod\u001b[49m\u001b[43m)\u001b[49m\n\u001b[32m    162\u001b[39m _check_lr_find_configuration(\u001b[38;5;28mself\u001b[39m._trainer)\n\u001b[32m    164\u001b[39m \u001b[38;5;66;03m# local import to avoid circular import\u001b[39;00m\n",
      "\u001b[36mFile \u001b[39m\u001b[32m~/quests/venv/lib/python3.13/site-packages/lightning/pytorch/tuner/tuning.py:199\u001b[39m, in \u001b[36m_check_tuner_configuration\u001b[39m\u001b[34m(train_dataloaders, val_dataloaders, dataloaders, method)\u001b[39m\n\u001b[32m    197\u001b[39m \u001b[38;5;28;01mif\u001b[39;00m method == \u001b[33m\"\u001b[39m\u001b[33mfit\u001b[39m\u001b[33m\"\u001b[39m:\n\u001b[32m    198\u001b[39m     \u001b[38;5;28;01mif\u001b[39;00m dataloaders \u001b[38;5;129;01mis\u001b[39;00m \u001b[38;5;129;01mnot\u001b[39;00m \u001b[38;5;28;01mNone\u001b[39;00m:\n\u001b[32m--> \u001b[39m\u001b[32m199\u001b[39m         \u001b[38;5;28;01mraise\u001b[39;00m MisconfigurationException(\n\u001b[32m    200\u001b[39m             \u001b[33mf\u001b[39m\u001b[33m\"\u001b[39m\u001b[33mIn tuner with method=\u001b[39m\u001b[38;5;132;01m{\u001b[39;00mmethod\u001b[38;5;132;01m!r}\u001b[39;00m\u001b[33m, `dataloaders` argument should be None,\u001b[39m\u001b[33m\"\u001b[39m\n\u001b[32m    201\u001b[39m             \u001b[33m\"\u001b[39m\u001b[33m please consider setting `train_dataloaders` and `val_dataloaders` instead.\u001b[39m\u001b[33m\"\u001b[39m\n\u001b[32m    202\u001b[39m         )\n\u001b[32m    203\u001b[39m \u001b[38;5;28;01melse\u001b[39;00m:\n\u001b[32m    204\u001b[39m     \u001b[38;5;28;01mif\u001b[39;00m train_dataloaders \u001b[38;5;129;01mis\u001b[39;00m \u001b[38;5;129;01mnot\u001b[39;00m \u001b[38;5;28;01mNone\u001b[39;00m \u001b[38;5;129;01mor\u001b[39;00m val_dataloaders \u001b[38;5;129;01mis\u001b[39;00m \u001b[38;5;129;01mnot\u001b[39;00m \u001b[38;5;28;01mNone\u001b[39;00m:\n",
      "\u001b[31mMisconfigurationException\u001b[39m: In tuner with method='fit', `dataloaders` argument should be None, please consider setting `train_dataloaders` and `val_dataloaders` instead."
     ]
    }
   ],
   "source": [
    "from lightning.pytorch.tuner.tuning import Tuner\n",
    "\n",
    "tuner = Tuner(trainer)\n",
    "\n",
    "lrfinder = tuner.lr_find(model=model1, dataloaders=dataloader, min_lr=0.01, max_lr=1, early_stop_threshold=None)"
   ]
  },
  {
   "cell_type": "code",
   "execution_count": null,
   "id": "76d6ace3",
   "metadata": {},
   "outputs": [],
   "source": []
  }
 ],
 "metadata": {
  "kernelspec": {
   "display_name": "venv",
   "language": "python",
   "name": "python3"
  },
  "language_info": {
   "codemirror_mode": {
    "name": "ipython",
    "version": 3
   },
   "file_extension": ".py",
   "mimetype": "text/x-python",
   "name": "python",
   "nbconvert_exporter": "python",
   "pygments_lexer": "ipython3",
   "version": "3.13.2"
  }
 },
 "nbformat": 4,
 "nbformat_minor": 5
}
